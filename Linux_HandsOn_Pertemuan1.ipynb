{
 "cells": [
  {
   "cell_type": "code",
   "execution_count": 12,
   "id": "300943a8-e10f-4a76-bc58-6720b9a559d0",
   "metadata": {},
   "outputs": [
    {
     "name": "stderr",
     "output_type": "stream",
     "text": [
      "25/09/03 10:55:43 WARN SparkSession: Using an existing Spark session; only runtime SQL configurations will take effect.\n"
     ]
    },
    {
     "name": "stdout",
     "output_type": "stream",
     "text": [
      "+-----+----+\n",
      "| Nama|Usia|\n",
      "+-----+----+\n",
      "|  Ali|  34|\n",
      "| Budi|  23|\n",
      "|Citra|  29|\n",
      "| Dina|  45|\n",
      "+-----+----+\n",
      "\n"
     ]
    }
   ],
   "source": [
    "# Latihan 1\n",
    "\n",
    "from pyspark.sql import SparkSession\n",
    "\n",
    "# Memulai Spark Session\n",
    "spark = SparkSession.builder.appName(\"BigDataPractice\").getOrCreate()\n",
    "\n",
    "data = [(\"Ali\", 34), (\"Budi\", 23), (\"Citra\", 29), (\"Dina\", 45)]\n",
    "columns = [\"Nama\", \"Usia\"]\n",
    "df = spark.createDataFrame(data,  columns)\n",
    "\n",
    "# Menampilkan DataFrame\n",
    "df.show()"
   ]
  },
  {
   "cell_type": "code",
   "execution_count": 1,
   "id": "75c92afe-7e8d-4a25-880d-f04dd28b0f8c",
   "metadata": {},
   "outputs": [
    {
     "name": "stderr",
     "output_type": "stream",
     "text": [
      "WARNING: Using incubator modules: jdk.incubator.vector\n",
      "Using Spark's default log4j profile: org/apache/spark/log4j2-defaults.properties\n",
      "25/09/03 10:32:56 WARN Utils: Your hostname, bila-VirtualBox, resolves to a loopback address: 127.0.1.1; using 10.0.2.15 instead (on interface enp0s3)\n",
      "25/09/03 10:32:56 WARN Utils: Set SPARK_LOCAL_IP if you need to bind to another address\n",
      "Using Spark's default log4j profile: org/apache/spark/log4j2-defaults.properties\n",
      "Setting default log level to \"WARN\".\n",
      "To adjust logging level use sc.setLogLevel(newLevel). For SparkR, use setLogLevel(newLevel).\n",
      "25/09/03 10:33:04 WARN NativeCodeLoader: Unable to load native-hadoop library for your platform... using builtin-java classes where applicable\n",
      "                                                                                "
     ]
    },
    {
     "name": "stdout",
     "output_type": "stream",
     "text": [
      "+-----+----+--------------------+-------------+---------+\n",
      "| Nama|Usia|           Pekerjaan|         Hobi|   Gender|\n",
      "+-----+----+--------------------+-------------+---------+\n",
      "|  Ali|  34|Pegawai Negeri Sipil|    Memancing|Laki-laki|\n",
      "| Budi|  23|             Pelajar|      Membaca|Laki-laki|\n",
      "|Citra|  29|    Ibu Rumah Tangga|Menonton Film|Perempuan|\n",
      "| Dina|  45|     Karyawan Swasta|      Menulis|Perempuan|\n",
      "+-----+----+--------------------+-------------+---------+\n",
      "\n"
     ]
    }
   ],
   "source": [
    "# Tugas 1\n",
    "\n",
    "from pyspark.sql import SparkSession\n",
    "\n",
    "spark = SparkSession.builder.appName(\"BigDataPractice\").getOrCreate()\n",
    "\n",
    "data = [(\"Ali\", 34, \"Pegawai Negeri Sipil\", \"Memancing\", \"Laki-laki\"),\n",
    "        (\"Budi\", 23, \"Pelajar\", \"Membaca\", \"Laki-laki\"),\n",
    "        (\"Citra\", 29, \"Ibu Rumah Tangga\", \"Menonton Film\", \"Perempuan\"),\n",
    "        (\"Dina\", 45, \"Karyawan Swasta\", \"Menulis\", \"Perempuan\")\n",
    "        ]\n",
    "columns = [\"Nama\", \"Usia\", \"Pekerjaan\", \"Hobi\", \"Gender\"]\n",
    "df = spark.createDataFrame(data, columns)\n",
    "\n",
    "df.show()"
   ]
  },
  {
   "cell_type": "code",
   "execution_count": 2,
   "id": "e7ef06f5-fb6d-4db4-a2d8-b1540c07a841",
   "metadata": {},
   "outputs": [
    {
     "name": "stdout",
     "output_type": "stream",
     "text": [
      "+-----+----+\n",
      "| Nama|Usia|\n",
      "+-----+----+\n",
      "|  Ali|  34|\n",
      "| Budi|  23|\n",
      "|Citra|  29|\n",
      "| Dina|  45|\n",
      "+-----+----+\n",
      "\n",
      "+----+----+\n",
      "|Nama|Usia|\n",
      "+----+----+\n",
      "| Ali|  34|\n",
      "|Dina|  45|\n",
      "+----+----+\n",
      "\n"
     ]
    },
    {
     "name": "stderr",
     "output_type": "stream",
     "text": [
      "                                                                                "
     ]
    },
    {
     "name": "stdout",
     "output_type": "stream",
     "text": [
      "+---------+\n",
      "|avg(Usia)|\n",
      "+---------+\n",
      "|    32.75|\n",
      "+---------+\n",
      "\n",
      "+-----+----+\n",
      "| Nama|Usia|\n",
      "+-----+----+\n",
      "| Dina|  45|\n",
      "|  Ali|  34|\n",
      "|Citra|  29|\n",
      "| Budi|  23|\n",
      "+-----+----+\n",
      "\n"
     ]
    }
   ],
   "source": [
    "# Latihan 1\n",
    "\n",
    "from pyspark.sql import SparkSession\n",
    "\n",
    "# Memulai Spark session\n",
    "spark = SparkSession.builder.appName(\"BigDataPractice\").getOrCreate()\n",
    "\n",
    "# Membuat DataFrame sederhana\n",
    "data = [(\"Ali\", 34), (\"Budi\", 23), (\"Citra\", 29), (\"Dina\", 45)]\n",
    "columns = [\"Nama\", \"Usia\"]\n",
    "df = spark.createDataFrame(data, columns)\n",
    "\n",
    "# Menampilkan DataFrame\n",
    "df.show()\n",
    "\n",
    "# Filtering data\n",
    "df_filtered = df.filter(df['Usia'] > 30)\n",
    "df_filtered.show()\n",
    "\n",
    "# Menghitung rata-rata usia\n",
    "from pyspark.sql.functions import avg\n",
    "df.groupBy().agg(avg(\"Usia\")).show()\n",
    "\n",
    "# Mengurutkan data berdasarkan usia\n",
    "df_sorted = df.orderBy(\"Usia\", ascending=False)\n",
    "df_sorted.show()"
   ]
  },
  {
   "cell_type": "code",
   "execution_count": 3,
   "id": "2b7543a0-d2b5-4d31-bd3e-bbcf08bd03db",
   "metadata": {},
   "outputs": [
    {
     "name": "stdout",
     "output_type": "stream",
     "text": [
      "Data Awal:\n",
      "+-----+----+--------------------+-------------+---------+\n",
      "| Nama|Usia|           Pekerjaan|         Hobi|   Gender|\n",
      "+-----+----+--------------------+-------------+---------+\n",
      "|  Ali|  34|Pegawai Negeri Sipil|    Memancing|Laki-laki|\n",
      "| Budi|  23|             Pelajar|      Membaca|Laki-laki|\n",
      "|Citra|  29|    Ibu Rumah Tangga|Menonton Film|Perempuan|\n",
      "| Dina|  45|     Karyawan Swasta|      Menulis|Perempuan|\n",
      "+-----+----+--------------------+-------------+---------+\n",
      "\n",
      "Data dengan Usia > 30:\n",
      "+----+----+--------------------+---------+---------+\n",
      "|Nama|Usia|           Pekerjaan|     Hobi|   Gender|\n",
      "+----+----+--------------------+---------+---------+\n",
      "| Ali|  34|Pegawai Negeri Sipil|Memancing|Laki-laki|\n",
      "|Dina|  45|     Karyawan Swasta|  Menulis|Perempuan|\n",
      "+----+----+--------------------+---------+---------+\n",
      "\n",
      "Rata-rata Usia:\n",
      "+---------+\n",
      "|avg(Usia)|\n",
      "+---------+\n",
      "|    32.75|\n",
      "+---------+\n",
      "\n",
      "Data diurutkan berdasarkan Usia (terendah ke tertinggi):\n",
      "+-----+----+--------------------+-------------+---------+\n",
      "| Nama|Usia|           Pekerjaan|         Hobi|   Gender|\n",
      "+-----+----+--------------------+-------------+---------+\n",
      "| Budi|  23|             Pelajar|      Membaca|Laki-laki|\n",
      "|Citra|  29|    Ibu Rumah Tangga|Menonton Film|Perempuan|\n",
      "|  Ali|  34|Pegawai Negeri Sipil|    Memancing|Laki-laki|\n",
      "| Dina|  45|     Karyawan Swasta|      Menulis|Perempuan|\n",
      "+-----+----+--------------------+-------------+---------+\n",
      "\n",
      "Data diurutkan berdasarkan Usia (tertinggi ke terendah):\n",
      "+-----+----+--------------------+-------------+---------+\n",
      "| Nama|Usia|           Pekerjaan|         Hobi|   Gender|\n",
      "+-----+----+--------------------+-------------+---------+\n",
      "| Dina|  45|     Karyawan Swasta|      Menulis|Perempuan|\n",
      "|  Ali|  34|Pegawai Negeri Sipil|    Memancing|Laki-laki|\n",
      "|Citra|  29|    Ibu Rumah Tangga|Menonton Film|Perempuan|\n",
      "| Budi|  23|             Pelajar|      Membaca|Laki-laki|\n",
      "+-----+----+--------------------+-------------+---------+\n",
      "\n"
     ]
    }
   ],
   "source": [
    "# Tugas 2\n",
    "\n",
    "from pyspark.sql import SparkSession\n",
    "from pyspark.sql.functions import avg\n",
    "\n",
    "# 1. Membuat Spark Session\n",
    "spark = SparkSession.builder.appName(\"BigDataPractice\").getOrCreate()\n",
    "\n",
    "# 2. Membuat DataFrame dengan data yang lebih lengkap\n",
    "data = [\n",
    "    (\"Ali\", 34, \"Pegawai Negeri Sipil\", \"Memancing\", \"Laki-laki\"),\n",
    "    (\"Budi\", 23, \"Pelajar\", \"Membaca\", \"Laki-laki\"),\n",
    "    (\"Citra\", 29, \"Ibu Rumah Tangga\", \"Menonton Film\", \"Perempuan\"),\n",
    "    (\"Dina\", 45, \"Karyawan Swasta\", \"Menulis\", \"Perempuan\")\n",
    "]\n",
    "columns = [\"Nama\", \"Usia\", \"Pekerjaan\", \"Hobi\", \"Gender\"]\n",
    "df = spark.createDataFrame(data, columns)\n",
    "\n",
    "# Menampilkan Data Awal\n",
    "print(\"Data Awal:\")\n",
    "df.show()\n",
    "\n",
    "# 3. Filtering data (usia > 30)\n",
    "print(\"Data dengan Usia > 30:\")\n",
    "df_filtered = df.filter(df['Usia'] > 30)\n",
    "df_filtered.show()\n",
    "\n",
    "# 4. Menghitung rata-rata usia\n",
    "print(\"Rata-rata Usia:\")\n",
    "df_avg = df.groupBy().agg(avg(\"Usia\"))\n",
    "df_avg.show()\n",
    "\n",
    "# 5. Mengurutkan data berdasarkan usia (ascending)\n",
    "print(\"Data diurutkan berdasarkan Usia (terendah ke tertinggi):\")\n",
    "df_sorted_asc = df.orderBy(\"Usia\", ascending=True)\n",
    "df_sorted_asc.show()\n",
    "\n",
    "# 6. Mengurutkan data berdasarkan usia (descending)\n",
    "print(\"Data diurutkan berdasarkan Usia (tertinggi ke terendah):\")\n",
    "df_sorted_desc = df.orderBy(\"Usia\", ascending=False)\n",
    "df_sorted_desc.show()"
   ]
  },
  {
   "cell_type": "code",
   "execution_count": 4,
   "id": "dcb37c74-28a2-4dcc-835c-3b9f52cee7d4",
   "metadata": {},
   "outputs": [
    {
     "data": {
      "text/html": [
       "<div>\n",
       "<style scoped>\n",
       "    .dataframe tbody tr th:only-of-type {\n",
       "        vertical-align: middle;\n",
       "    }\n",
       "\n",
       "    .dataframe tbody tr th {\n",
       "        vertical-align: top;\n",
       "    }\n",
       "\n",
       "    .dataframe thead th {\n",
       "        text-align: right;\n",
       "    }\n",
       "</style>\n",
       "<table border=\"1\" class=\"dataframe\">\n",
       "  <thead>\n",
       "    <tr style=\"text-align: right;\">\n",
       "      <th></th>\n",
       "      <th>Nama</th>\n",
       "      <th>Usia</th>\n",
       "    </tr>\n",
       "  </thead>\n",
       "  <tbody>\n",
       "    <tr>\n",
       "      <th>0</th>\n",
       "      <td>Ali</td>\n",
       "      <td>34</td>\n",
       "    </tr>\n",
       "    <tr>\n",
       "      <th>1</th>\n",
       "      <td>Budi</td>\n",
       "      <td>23</td>\n",
       "    </tr>\n",
       "    <tr>\n",
       "      <th>2</th>\n",
       "      <td>Citra</td>\n",
       "      <td>29</td>\n",
       "    </tr>\n",
       "    <tr>\n",
       "      <th>3</th>\n",
       "      <td>Dina</td>\n",
       "      <td>45</td>\n",
       "    </tr>\n",
       "  </tbody>\n",
       "</table>\n",
       "</div>"
      ],
      "text/plain": [
       "    Nama  Usia\n",
       "0    Ali    34\n",
       "1   Budi    23\n",
       "2  Citra    29\n",
       "3   Dina    45"
      ]
     },
     "execution_count": 4,
     "metadata": {},
     "output_type": "execute_result"
    }
   ],
   "source": [
    "# Latihan 2\n",
    "\n",
    "import pandas as pd\n",
    "\n",
    "# Membuat DataFrame Pandas\n",
    "data_pandas = {\"Nama\": [\"Ali\", \"Budi\", \"Citra\", \"Dina\"], \"Usia\": [34, 23, 29, 45]}\n",
    "df_pandas = pd.DataFrame(data_pandas)\n",
    "\n",
    "# Menampilkan DataFrame Pandas\n",
    "df_pandas"
   ]
  },
  {
   "cell_type": "code",
   "execution_count": 5,
   "id": "2f7e6494-4163-4f1f-a3f2-44c70aeb0009",
   "metadata": {},
   "outputs": [
    {
     "name": "stdout",
     "output_type": "stream",
     "text": [
      "DataFrame setelah dimodifikasi:\n",
      "    Nama  Usia         Pekerjaan Kategori Usia\n",
      "0    Ali    34               PNS        Dewasa\n",
      "1   Budi    23           Pelajar          Muda\n",
      "2  Citra    29  Ibu Rumah Tangga          Muda\n",
      "3   Dina    45          Karyawan        Dewasa \n",
      "\n",
      "Hasil Filtering (Usia > 30):\n",
      "   Nama  Usia Pekerjaan Kategori Usia\n",
      "0   Ali    34       PNS        Dewasa\n",
      "3  Dina    45  Karyawan        Dewasa\n"
     ]
    }
   ],
   "source": [
    "# Tugas 3\n",
    "\n",
    "import pandas as pd\n",
    "\n",
    "# Membuat DataFrame Pandas\n",
    "data_pandas = {\"Nama\": [\"Ali\", \"Budi\", \"Citra\", \"Dina\"], \"Usia\": [34, 23, 29, 45]}\n",
    "df_pandas = pd.DataFrame(data_pandas)\n",
    "\n",
    "# Menambahkan kolom baru \"Pekerjaan\"\n",
    "df_pandas[\"Pekerjaan\"] = [\"PNS\", \"Pelajar\", \"Ibu Rumah Tangga\", \"Karyawan\"]\n",
    "\n",
    "# Menambahkan kolom baru \"Kategori Usia\"\n",
    "df_pandas[\"Kategori Usia\"] = [\"Dewasa\" if usia >= 30 else \"Muda\" for usia in df_pandas[\"Usia\"]]\n",
    "\n",
    "# Filtering data berdasarkan usia > 30\n",
    "df_filtered = df_pandas[df_pandas[\"Usia\"] > 30]\n",
    "\n",
    "# Menampilkan DataFrame hasil modifikasi\n",
    "print(\"DataFrame setelah dimodifikasi:\")\n",
    "print(df_pandas, \"\\n\")\n",
    "\n",
    "print(\"Hasil Filtering (Usia > 30):\")\n",
    "print(df_filtered)\n",
    "     "
   ]
  },
  {
   "cell_type": "code",
   "execution_count": 7,
   "id": "242c14b0-43d7-40fb-b951-0aff257bef37",
   "metadata": {},
   "outputs": [
    {
     "name": "stdout",
     "output_type": "stream",
     "text": [
      "    Nama  Usia Pekerjaan\n",
      "0    Ali    34    Dokter\n",
      "1   Budi    23      Guru\n",
      "2  Citra    29  Insinyur\n",
      "3   Dina    45   Perawat\n",
      "            Usia\n",
      "count   4.000000\n",
      "mean   32.750000\n",
      "std     9.322911\n",
      "min    23.000000\n",
      "25%    27.500000\n",
      "50%    31.500000\n",
      "75%    36.750000\n",
      "max    45.000000\n"
     ]
    },
    {
     "name": "stderr",
     "output_type": "stream",
     "text": [
      "Matplotlib is building the font cache; this may take a moment.\n"
     ]
    },
    {
     "data": {
      "image/png": "[encoded data removed]",
      "text/plain": [
       "<Figure size 640x480 with 1 Axes>"
      ]
     },
     "metadata": {},
     "output_type": "display_data"
    }
   ],
   "source": [
    "# Latihan 3\n",
    "\n",
    "import pandas as pd\n",
    "\n",
    "# Membuat DataFrame Pandas\n",
    "data_pandas = {\"Nama\": [\"Ali\", \"Budi\", \"Citra\", \"Dina\"], \"Usia\": [34, 23, 29, 45]}\n",
    "df_pandas = pd.DataFrame(data_pandas)\n",
    "\n",
    "# Membuat DataFrame kedua\n",
    "data_pandas_2 = {\"Nama\": [\"Ali\", \"Budi\", \"Citra\", \"Dina\"], \"Pekerjaan\": [\"Dokter\", \"Guru\", \"Insinyur\", \"Perawat\"]}\n",
    "df_pandas_2 = pd.DataFrame(data_pandas_2)\n",
    "\n",
    "# Join antara dua DataFrame\n",
    "df_joined = pd.merge(df_pandas, df_pandas_2, on=\"Nama\")\n",
    "print(df_joined)\n",
    "\n",
    "# Menghitung statistik deskriptif\n",
    "print(df_pandas.describe())\n",
    "\n",
    "# Plotting Data\n",
    "import matplotlib.pyplot as plt\n",
    "df_pandas['Usia'].plot(kind='bar')\n",
    "plt.show()"
   ]
  },
  {
   "cell_type": "code",
   "execution_count": 8,
   "id": "67716bff-83a1-41f1-9a59-3a5c9ae5599c",
   "metadata": {},
   "outputs": [
    {
     "name": "stdout",
     "output_type": "stream",
     "text": [
      "Hasil Penggabungan DataFrame:\n",
      "    Nama  Usia Pekerjaan\n",
      "0    Ali    34    Dokter\n",
      "1   Budi    23      Guru\n",
      "2  Citra    29  Insinyur\n",
      "3   Dina    45   Perawat\n"
     ]
    },
    {
     "data": {
      "image/png": "[encoded data removed]",
      "text/plain": [
       "<Figure size 640x480 with 1 Axes>"
      ]
     },
     "metadata": {},
     "output_type": "display_data"
    }
   ],
   "source": [
    "# Tugas 4\n",
    "\n",
    "import pandas as pd\n",
    "import matplotlib.pyplot as plt\n",
    "\n",
    "# Membuat DataFrame pertama (Nama dan Usia)\n",
    "data_pandas = {\n",
    "    \"Nama\": [\"Ali\", \"Budi\", \"Citra\", \"Dina\"],\n",
    "    \"Usia\": [34, 23, 29, 45]\n",
    "}\n",
    "df_pandas = pd.DataFrame(data_pandas)\n",
    "\n",
    "# Membuat DataFrame kedua (Nama dan Pekerjaan)\n",
    "data_pandas_2 = {\n",
    "    \"Nama\": [\"Ali\", \"Budi\", \"Citra\", \"Dina\"],\n",
    "    \"Pekerjaan\": [\"Dokter\", \"Guru\", \"Insinyur\", \"Perawat\"]\n",
    "}\n",
    "df_pandas_2 = pd.DataFrame(data_pandas_2)\n",
    "\n",
    "# Menggabungkan DataFrame berdasarkan kolom Nama\n",
    "df_joined = pd.merge(df_pandas, df_pandas_2, on=\"Nama\")\n",
    "print(\"Hasil Penggabungan DataFrame:\")\n",
    "print(df_joined)\n",
    "\n",
    "# Visualisasi Data: Membuat diagram batang usia tiap orang\n",
    "df_joined.plot(x=\"Nama\", y=\"Usia\", kind=\"bar\", color=\"skyblue\", legend=False)\n",
    "plt.title(\"Usia Masing-Masing Individu\")\n",
    "plt.xlabel(\"Nama\")\n",
    "plt.ylabel(\"Usia\")\n",
    "plt.show()"
   ]
  },
  {
   "cell_type": "code",
   "execution_count": 9,
   "id": "3f959605-a4f9-42fd-ad32-4000aae29747",
   "metadata": {},
   "outputs": [
    {
     "name": "stdout",
     "output_type": "stream",
     "text": [
      "+-----+----+\n",
      "| Nama|Usia|\n",
      "+-----+----+\n",
      "|  Ali|  34|\n",
      "| Budi|  23|\n",
      "|Citra|  29|\n",
      "| Dina|  45|\n",
      "+-----+----+\n",
      "\n"
     ]
    },
    {
     "data": {
      "text/plain": [
       "(    Nama  Usia             Pekerjaan           Hobi     Gender\n",
       " 0    Ali    34  Pegawai Negeri Sipil      Memancing  Laki-laki\n",
       " 1   Budi    23               Pelajar        Membaca  Laki-laki\n",
       " 2  Citra    29      Ibu Rumah Tangga  Menonton Film  Perempuan\n",
       " 3   Dina    45       Karyawan Swasta        Menulis  Perempuan,\n",
       " None)"
      ]
     },
     "execution_count": 9,
     "metadata": {},
     "output_type": "execute_result"
    }
   ],
   "source": [
    "# Latihan 4\n",
    "\n",
    "# Mengonversi DataFrame dari PySpark ke Pandas\n",
    "df_pandas_from_spark = df.toPandas()\n",
    "\n",
    "# Mengonversi DataFrame dari Pandas ke PySpark\n",
    "df_spark_from_pandas = spark.createDataFrame(df_pandas)\n",
    "\n",
    "# Menampilkan DataFrame hasil konversi\n",
    "df_pandas_from_spark, df_spark_from_pandas.show()\n",
    "     \n"
   ]
  },
  {
   "cell_type": "code",
   "execution_count": 10,
   "id": "25c162fb-af2a-48bb-98ac-3914121f2063",
   "metadata": {},
   "outputs": [
    {
     "name": "stdout",
     "output_type": "stream",
     "text": [
      "+-----+----+\n",
      "| Nama|Usia|\n",
      "+-----+----+\n",
      "|  Ali|  34|\n",
      "| Budi|  23|\n",
      "|Citra|  29|\n",
      "| Dina|  45|\n",
      "|  Eka|  31|\n",
      "+-----+----+\n",
      "\n"
     ]
    },
    {
     "name": "stderr",
     "output_type": "stream",
     "text": [
      "[Stage 31:==============================================>         (10 + 2) / 12]"
     ]
    },
    {
     "name": "stdout",
     "output_type": "stream",
     "text": [
      "+---------+\n",
      "|avg(Usia)|\n",
      "+---------+\n",
      "|     32.4|\n",
      "+---------+\n",
      "\n"
     ]
    },
    {
     "name": "stderr",
     "output_type": "stream",
     "text": [
      "                                                                                "
     ]
    }
   ],
   "source": [
    "# Tugas 5\n",
    "\n",
    "import pandas as pd\n",
    "from pyspark.sql import SparkSession\n",
    "\n",
    "# Inisialisasi Spark\n",
    "spark = SparkSession.builder.appName(\"BigDataPractice\").getOrCreate()\n",
    "\n",
    "# Data dari PySpark\n",
    "data_spark = [(\"Ali\", 34), (\"Budi\", 23), (\"Citra\", 29)]\n",
    "df_spark = spark.createDataFrame(data_spark, [\"Nama\", \"Usia\"])\n",
    "\n",
    "# Data dari Pandas\n",
    "data_pandas = {\"Nama\": [\"Dina\", \"Eka\"], \"Usia\": [45, 31]}\n",
    "df_pandas = pd.DataFrame(data_pandas)\n",
    "\n",
    "# Konversi Pandas ke PySpark\n",
    "df_spark_from_pandas = spark.createDataFrame(df_pandas)\n",
    "\n",
    "# Gabungkan data PySpark dengan data hasil konversi dari Pandas\n",
    "df_gabungan = df_spark.union(df_spark_from_pandas)\n",
    "\n",
    "# Tampilkan data gabungan\n",
    "df_gabungan.show()\n",
    "\n",
    "# Analisis sederhana: menghitung rata-rata usia\n",
    "df_gabungan.agg({\"Usia\": \"avg\"}).show()"
   ]
  },
  {
   "cell_type": "code",
   "execution_count": 11,
   "id": "e93c1ed0-fc8c-41ab-b739-2c1b5200c98a",
   "metadata": {},
   "outputs": [
    {
     "name": "stderr",
     "output_type": "stream",
     "text": [
      "25/09/03 10:51:08 WARN SparkSession: Using an existing Spark session; only runtime SQL configurations will take effect.\n",
      "                                                                                "
     ]
    },
    {
     "data": {
      "image/png": "[encoded data removed]",
      "text/plain": [
       "<Figure size 600x400 with 1 Axes>"
      ]
     },
     "metadata": {},
     "output_type": "display_data"
    }
   ],
   "source": [
    "# Tugas 6\n",
    "\n",
    "from pyspark.sql import SparkSession\n",
    "import pandas as pd\n",
    "import matplotlib.pyplot as plt\n",
    "\n",
    "# Membuat SparkSession\n",
    "spark = SparkSession.builder.appName(\"Tugas6\").getOrCreate()\n",
    "\n",
    "# Data di PySpark\n",
    "data_spark = [(\"Ali\", 34), (\"Budi\", 23), (\"Citra\", 29)]\n",
    "columns = [\"Nama\", \"Usia\"]\n",
    "df_spark = spark.createDataFrame(data_spark, columns)\n",
    "\n",
    "# Data di Pandas\n",
    "data_pandas = {\"Nama\": [\"Dina\", \"Eko\"], \"Usia\": [45, 31]}\n",
    "df_pandas = pd.DataFrame(data_pandas)\n",
    "\n",
    "# Konversi Pandas ke PySpark\n",
    "df_spark_from_pandas = spark.createDataFrame(df_pandas)\n",
    "\n",
    "# Gabungkan data PySpark + Pandas\n",
    "df_combined = df_spark.union(df_spark_from_pandas)\n",
    "\n",
    "# Hitung nilai maksimum usia\n",
    "max_usia = df_combined.agg({\"Usia\": \"max\"}).collect()[0][0]\n",
    "\n",
    "# Konversi ke Pandas untuk visualisasi\n",
    "df_final = df_combined.toPandas()\n",
    "\n",
    "# Visualisasi diagram batang\n",
    "plt.figure(figsize=(6,4))\n",
    "plt.bar(df_final[\"Nama\"], df_final[\"Usia\"], color=\"skyblue\")\n",
    "plt.axhline(y=max_usia, color=\"red\", linestyle=\"--\", label=f'Max Usia: {max_usia}')\n",
    "plt.xlabel(\"Nama\")\n",
    "plt.ylabel(\"Usia\")\n",
    "plt.title(\"Diagram Usia (Gabungan PySpark & Pandas)\")\n",
    "plt.legend()\n",
    "plt.show()"
   ]
  },
  {
   "cell_type": "code",
   "execution_count": null,
   "id": "c21d23ad-7936-4e6a-a0e5-0a7eac95f566",
   "metadata": {},
   "outputs": [],
   "source": []
  }
 ],
 "metadata": {
  "kernelspec": {
   "display_name": "Python 3 (ipykernel)",
   "language": "python",
   "name": "python3"
  },
  "language_info": {
   "codemirror_mode": {
    "name": "ipython",
    "version": 3
   },
   "file_extension": ".py",
   "mimetype": "text/x-python",
   "name": "python",
   "nbconvert_exporter": "python",
   "pygments_lexer": "ipython3",
   "version": "3.13.5"
  }
 },
 "nbformat": 4,
 "nbformat_minor": 5
}

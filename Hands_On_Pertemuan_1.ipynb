{
  "nbformat": 4,
  "nbformat_minor": 0,
  "metadata": {
    "colab": {
      "provenance": [],
      "authorship_tag": "ABX9TyMBoy7RtxgQtuPCOwKjl7RF",
      "include_colab_link": true
    },
    "kernelspec": {
      "name": "python3",
      "display_name": "Python 3"
    },
    "language_info": {
      "name": "python"
    }
  },
  "cells": [
    {
      "cell_type": "markdown",
      "metadata": {
        "id": "view-in-github",
        "colab_type": "text"
      },
      "source": [
        "<a href=\"https://colab.research.google.com/github/nabilaszf/Praktikum-Big-Data/blob/main/Hands_On_Pertemuan_1.ipynb\" target=\"_parent\"><img src=\"https://colab.research.google.com/assets/colab-badge.svg\" alt=\"Open In Colab\"/></a>"
      ]
    },
    {
      "cell_type": "markdown",
      "source": [
        "## Praktik dengan PySpark"
      ],
      "metadata": {
        "id": "n3ZK-jQ8fSnR"
      }
    },
    {
      "cell_type": "code",
      "execution_count": 2,
      "metadata": {
        "colab": {
          "base_uri": "https://localhost:8080/"
        },
        "id": "xO5WRKZNWXLv",
        "outputId": "565a6e99-242f-44c5-94ff-b2732c475b5c"
      },
      "outputs": [
        {
          "output_type": "stream",
          "name": "stdout",
          "text": [
            "+-----+----+\n",
            "| Nama|Usia|\n",
            "+-----+----+\n",
            "|  Ali|  34|\n",
            "| Budi|  23|\n",
            "|Citra|  29|\n",
            "| Dina|  45|\n",
            "+-----+----+\n",
            "\n"
          ]
        }
      ],
      "source": [
        "from pyspark.sql import SparkSession\n",
        "\n",
        "# Memulai Spark Session\n",
        "spark = SparkSession.builder.appName(\"BigDataParctice\").getOrCreate()\n",
        "\n",
        "# Membuat DataFrame Sederhana\n",
        "data = [(\"Ali\", 34), (\"Budi\", 23), (\"Citra\", 29), (\"Dina\", 45)]\n",
        "columns = [\"Nama\", \"Usia\"]\n",
        "df = spark.createDataFrame(data, columns)\n",
        "\n",
        "# Menampilkan DataFrame\n",
        "df.show()"
      ]
    },
    {
      "cell_type": "markdown",
      "source": [
        "### **Tugas 1**: Jalankan kode di attas dan buat modifikasi dengan menambahkan data lain berupa kolom pekerjaan, hobi, dan gender!"
      ],
      "metadata": {
        "id": "NecQCXpTYgoT"
      }
    },
    {
      "cell_type": "code",
      "source": [
        "from pyspark.sql import SparkSession\n",
        "\n",
        "spark = SparkSession.builder.appName(\"BigDataParctice\").getOrCreate()\n",
        "\n",
        "data = [(\"Ali\", 34, \"Pegawai Negeri Sipil\", \"Memancing\", \"Laki-laki\"),\n",
        "        (\"Budi\", 23, \"Pelajar\", \"Membaca\", \"Laki-laki\"),\n",
        "        (\"Citra\", 29, \"Ibu Rumah Tangga\", \"Menonton Film\", \"Perempuan\"),\n",
        "        (\"Dina\", 45, \"Karyawan Swasta\", \"Menulis\", \"Perempuan\")\n",
        "        ]\n",
        "columns = [\"Nama\", \"Usia\", \"Pekerjaan\", \"Hobi\", \"Gender\"]\n",
        "df = spark.createDataFrame(data, columns)\n",
        "\n",
        "df.show()"
      ],
      "metadata": {
        "colab": {
          "base_uri": "https://localhost:8080/"
        },
        "id": "wpqa8d4rW8AD",
        "outputId": "4b9d9aa1-db5b-4fe6-854f-9df6536f82be"
      },
      "execution_count": 4,
      "outputs": [
        {
          "output_type": "stream",
          "name": "stdout",
          "text": [
            "+-----+----+--------------------+-------------+---------+\n",
            "| Nama|Usia|           Pekerjaan|         Hobi|   Gender|\n",
            "+-----+----+--------------------+-------------+---------+\n",
            "|  Ali|  34|Pegawai Negeri Sipil|    Memancing|Laki-laki|\n",
            "| Budi|  23|             Pelajar|      Membaca|Laki-laki|\n",
            "|Citra|  29|    Ibu Rumah Tangga|Menonton Film|Perempuan|\n",
            "| Dina|  45|     Karyawan Swasta|      Menulis|Perempuan|\n",
            "+-----+----+--------------------+-------------+---------+\n",
            "\n"
          ]
        }
      ]
    },
    {
      "cell_type": "markdown",
      "source": [
        "## Praktik PySpark Lanjutan"
      ],
      "metadata": {
        "id": "ArTNhOARnU2J"
      }
    },
    {
      "cell_type": "markdown",
      "source": [
        "### **Latihan 1**: Memanipulasi Data dengan PySpark"
      ],
      "metadata": {
        "id": "pnak3hbnae6Y"
      }
    },
    {
      "cell_type": "code",
      "source": [
        "from pyspark.sql import SparkSession\n",
        "\n",
        "# Memulai Spark session\n",
        "spark = SparkSession.builder.appName(\"BigDataPractice\").getOrCreate()\n",
        "\n",
        "# Membuat DataFrame sederhana\n",
        "data = [(\"Ali\", 34), (\"Budi\", 23), (\"Citra\", 29), (\"Dina\", 45)]\n",
        "columns = [\"Nama\", \"Usia\"]\n",
        "df = spark.createDataFrame(data, columns)\n",
        "\n",
        "# Menampilkan DataFrame\n",
        "df.show()\n",
        "\n",
        "# Filtering data\n",
        "df_filtered = df.filter(df['Usia'] > 30)\n",
        "df_filtered.show()\n",
        "\n",
        "# Menghitung rata-rata usia\n",
        "from pyspark.sql.functions import avg\n",
        "df.groupBy().agg(avg(\"Usia\")).show()\n",
        "\n",
        "# Mengurutkan data berdasarkan usia\n",
        "df_sorted = df.orderBy(\"Usia\", ascending=False)\n",
        "df_sorted.show()"
      ],
      "metadata": {
        "colab": {
          "base_uri": "https://localhost:8080/"
        },
        "id": "EPRS7wc7Zfhq",
        "outputId": "011626cc-598e-4bce-f1ab-60da40a5d419"
      },
      "execution_count": 5,
      "outputs": [
        {
          "output_type": "stream",
          "name": "stdout",
          "text": [
            "+-----+----+\n",
            "| Nama|Usia|\n",
            "+-----+----+\n",
            "|  Ali|  34|\n",
            "| Budi|  23|\n",
            "|Citra|  29|\n",
            "| Dina|  45|\n",
            "+-----+----+\n",
            "\n",
            "+----+----+\n",
            "|Nama|Usia|\n",
            "+----+----+\n",
            "| Ali|  34|\n",
            "|Dina|  45|\n",
            "+----+----+\n",
            "\n",
            "+---------+\n",
            "|avg(Usia)|\n",
            "+---------+\n",
            "|    32.75|\n",
            "+---------+\n",
            "\n",
            "+-----+----+\n",
            "| Nama|Usia|\n",
            "+-----+----+\n",
            "| Dina|  45|\n",
            "|  Ali|  34|\n",
            "|Citra|  29|\n",
            "| Budi|  23|\n",
            "+-----+----+\n",
            "\n"
          ]
        }
      ]
    },
    {
      "cell_type": "markdown",
      "source": [
        "### **Tugas 2**: Lakukan filter, penghitungan rata-rata, dan pengurutan data menggunakan PySpark."
      ],
      "metadata": {
        "id": "eOhJ5Ukhdbqr"
      }
    },
    {
      "cell_type": "code",
      "source": [
        "from pyspark.sql import SparkSession\n",
        "from pyspark.sql.functions import avg\n",
        "\n",
        "# 1. Membuat Spark Session\n",
        "spark = SparkSession.builder.appName(\"BigDataPractice\").getOrCreate()\n",
        "\n",
        "# 2. Membuat DataFrame dengan data yang lebih lengkap\n",
        "data = [\n",
        "    (\"Ali\", 34, \"Pegawai Negeri Sipil\", \"Memancing\", \"Laki-laki\"),\n",
        "    (\"Budi\", 23, \"Pelajar\", \"Membaca\", \"Laki-laki\"),\n",
        "    (\"Citra\", 29, \"Ibu Rumah Tangga\", \"Menonton Film\", \"Perempuan\"),\n",
        "    (\"Dina\", 45, \"Karyawan Swasta\", \"Menulis\", \"Perempuan\")\n",
        "]\n",
        "columns = [\"Nama\", \"Usia\", \"Pekerjaan\", \"Hobi\", \"Gender\"]\n",
        "df = spark.createDataFrame(data, columns)\n",
        "\n",
        "# Menampilkan Data Awal\n",
        "print(\"Data Awal:\")\n",
        "df.show()\n",
        "\n",
        "# 3. Filtering data (usia > 30)\n",
        "print(\"Data dengan Usia > 30:\")\n",
        "df_filtered = df.filter(df['Usia'] > 30)\n",
        "df_filtered.show()\n",
        "\n",
        "# 4. Menghitung rata-rata usia\n",
        "print(\"Rata-rata Usia:\")\n",
        "df_avg = df.groupBy().agg(avg(\"Usia\"))\n",
        "df_avg.show()\n",
        "\n",
        "# 5. Mengurutkan data berdasarkan usia (ascending)\n",
        "print(\"Data diurutkan berdasarkan Usia (terendah ke tertinggi):\")\n",
        "df_sorted_asc = df.orderBy(\"Usia\", ascending=True)\n",
        "df_sorted_asc.show()\n",
        "\n",
        "# 6. Mengurutkan data berdasarkan usia (descending)\n",
        "print(\"Data diurutkan berdasarkan Usia (tertinggi ke terendah):\")\n",
        "df_sorted_desc = df.orderBy(\"Usia\", ascending=False)\n",
        "df_sorted_desc.show()"
      ],
      "metadata": {
        "colab": {
          "base_uri": "https://localhost:8080/"
        },
        "id": "rQPWdDFqabOq",
        "outputId": "83e71a8b-2ef5-4859-f74d-41c962ddf801"
      },
      "execution_count": 7,
      "outputs": [
        {
          "output_type": "stream",
          "name": "stdout",
          "text": [
            "Data Awal:\n",
            "+-----+----+--------------------+-------------+---------+\n",
            "| Nama|Usia|           Pekerjaan|         Hobi|   Gender|\n",
            "+-----+----+--------------------+-------------+---------+\n",
            "|  Ali|  34|Pegawai Negeri Sipil|    Memancing|Laki-laki|\n",
            "| Budi|  23|             Pelajar|      Membaca|Laki-laki|\n",
            "|Citra|  29|    Ibu Rumah Tangga|Menonton Film|Perempuan|\n",
            "| Dina|  45|     Karyawan Swasta|      Menulis|Perempuan|\n",
            "+-----+----+--------------------+-------------+---------+\n",
            "\n",
            "Data dengan Usia > 30:\n",
            "+----+----+--------------------+---------+---------+\n",
            "|Nama|Usia|           Pekerjaan|     Hobi|   Gender|\n",
            "+----+----+--------------------+---------+---------+\n",
            "| Ali|  34|Pegawai Negeri Sipil|Memancing|Laki-laki|\n",
            "|Dina|  45|     Karyawan Swasta|  Menulis|Perempuan|\n",
            "+----+----+--------------------+---------+---------+\n",
            "\n",
            "Rata-rata Usia:\n",
            "+---------+\n",
            "|avg(Usia)|\n",
            "+---------+\n",
            "|    32.75|\n",
            "+---------+\n",
            "\n",
            "Data diurutkan berdasarkan Usia (terendah ke tertinggi):\n",
            "+-----+----+--------------------+-------------+---------+\n",
            "| Nama|Usia|           Pekerjaan|         Hobi|   Gender|\n",
            "+-----+----+--------------------+-------------+---------+\n",
            "| Budi|  23|             Pelajar|      Membaca|Laki-laki|\n",
            "|Citra|  29|    Ibu Rumah Tangga|Menonton Film|Perempuan|\n",
            "|  Ali|  34|Pegawai Negeri Sipil|    Memancing|Laki-laki|\n",
            "| Dina|  45|     Karyawan Swasta|      Menulis|Perempuan|\n",
            "+-----+----+--------------------+-------------+---------+\n",
            "\n",
            "Data diurutkan berdasarkan Usia (tertinggi ke terendah):\n",
            "+-----+----+--------------------+-------------+---------+\n",
            "| Nama|Usia|           Pekerjaan|         Hobi|   Gender|\n",
            "+-----+----+--------------------+-------------+---------+\n",
            "| Dina|  45|     Karyawan Swasta|      Menulis|Perempuan|\n",
            "|  Ali|  34|Pegawai Negeri Sipil|    Memancing|Laki-laki|\n",
            "|Citra|  29|    Ibu Rumah Tangga|Menonton Film|Perempuan|\n",
            "| Budi|  23|             Pelajar|      Membaca|Laki-laki|\n",
            "+-----+----+--------------------+-------------+---------+\n",
            "\n"
          ]
        }
      ]
    },
    {
      "cell_type": "markdown",
      "source": [
        "## Praktik dengan Pandas"
      ],
      "metadata": {
        "id": "5TaP9lY_fZVs"
      }
    },
    {
      "cell_type": "markdown",
      "source": [
        "### **Latihan 2**: Buat DataFrame menggunakan Pandas"
      ],
      "metadata": {
        "id": "t0SJi14Ynbod"
      }
    },
    {
      "cell_type": "code",
      "source": [
        "import pandas as pd\n",
        "\n",
        "# Membuat DataFrame Pandas\n",
        "data_pandas = {\"Nama\": [\"Ali\", \"Budi\", \"Citra\", \"Dina\"], \"Usia\": [34, 23, 29, 45]}\n",
        "df_pandas = pd.DataFrame(data_pandas)\n",
        "\n",
        "# Menampilkan DataFrame Pandas\n",
        "df_pandas"
      ],
      "metadata": {
        "colab": {
          "base_uri": "https://localhost:8080/",
          "height": 175
        },
        "id": "UtvOb5cmdm2i",
        "outputId": "b1742122-8da0-462d-c77b-473689fe6842"
      },
      "execution_count": 8,
      "outputs": [
        {
          "output_type": "execute_result",
          "data": {
            "text/plain": [
              "    Nama  Usia\n",
              "0    Ali    34\n",
              "1   Budi    23\n",
              "2  Citra    29\n",
              "3   Dina    45"
            ],
            "text/html": [
              "\n",
              "  <div id=\"df-a84ddf73-5859-4608-9488-a48c235dfb91\" class=\"colab-df-container\">\n",
              "    <div>\n",
              "<style scoped>\n",
              "    .dataframe tbody tr th:only-of-type {\n",
              "        vertical-align: middle;\n",
              "    }\n",
              "\n",
              "    .dataframe tbody tr th {\n",
              "        vertical-align: top;\n",
              "    }\n",
              "\n",
              "    .dataframe thead th {\n",
              "        text-align: right;\n",
              "    }\n",
              "</style>\n",
              "<table border=\"1\" class=\"dataframe\">\n",
              "  <thead>\n",
              "    <tr style=\"text-align: right;\">\n",
              "      <th></th>\n",
              "      <th>Nama</th>\n",
              "      <th>Usia</th>\n",
              "    </tr>\n",
              "  </thead>\n",
              "  <tbody>\n",
              "    <tr>\n",
              "      <th>0</th>\n",
              "      <td>Ali</td>\n",
              "      <td>34</td>\n",
              "    </tr>\n",
              "    <tr>\n",
              "      <th>1</th>\n",
              "      <td>Budi</td>\n",
              "      <td>23</td>\n",
              "    </tr>\n",
              "    <tr>\n",
              "      <th>2</th>\n",
              "      <td>Citra</td>\n",
              "      <td>29</td>\n",
              "    </tr>\n",
              "    <tr>\n",
              "      <th>3</th>\n",
              "      <td>Dina</td>\n",
              "      <td>45</td>\n",
              "    </tr>\n",
              "  </tbody>\n",
              "</table>\n",
              "</div>\n",
              "    <div class=\"colab-df-buttons\">\n",
              "\n",
              "  <div class=\"colab-df-container\">\n",
              "    <button class=\"colab-df-convert\" onclick=\"convertToInteractive('df-a84ddf73-5859-4608-9488-a48c235dfb91')\"\n",
              "            title=\"Convert this dataframe to an interactive table.\"\n",
              "            style=\"display:none;\">\n",
              "\n",
              "  <svg xmlns=\"http://www.w3.org/2000/svg\" height=\"24px\" viewBox=\"0 -960 960 960\">\n",
              "    <path d=\"M120-120v-720h720v720H120Zm60-500h600v-160H180v160Zm220 220h160v-160H400v160Zm0 220h160v-160H400v160ZM180-400h160v-160H180v160Zm440 0h160v-160H620v160ZM180-180h160v-160H180v160Zm440 0h160v-160H620v160Z\"/>\n",
              "  </svg>\n",
              "    </button>\n",
              "\n",
              "  <style>\n",
              "    .colab-df-container {\n",
              "      display:flex;\n",
              "      gap: 12px;\n",
              "    }\n",
              "\n",
              "    .colab-df-convert {\n",
              "      background-color: #E8F0FE;\n",
              "      border: none;\n",
              "      border-radius: 50%;\n",
              "      cursor: pointer;\n",
              "      display: none;\n",
              "      fill: #1967D2;\n",
              "      height: 32px;\n",
              "      padding: 0 0 0 0;\n",
              "      width: 32px;\n",
              "    }\n",
              "\n",
              "    .colab-df-convert:hover {\n",
              "      background-color: #E2EBFA;\n",
              "      box-shadow: 0px 1px 2px rgba(60, 64, 67, 0.3), 0px 1px 3px 1px rgba(60, 64, 67, 0.15);\n",
              "      fill: #174EA6;\n",
              "    }\n",
              "\n",
              "    .colab-df-buttons div {\n",
              "      margin-bottom: 4px;\n",
              "    }\n",
              "\n",
              "    [theme=dark] .colab-df-convert {\n",
              "      background-color: #3B4455;\n",
              "      fill: #D2E3FC;\n",
              "    }\n",
              "\n",
              "    [theme=dark] .colab-df-convert:hover {\n",
              "      background-color: #434B5C;\n",
              "      box-shadow: 0px 1px 3px 1px rgba(0, 0, 0, 0.15);\n",
              "      filter: drop-shadow(0px 1px 2px rgba(0, 0, 0, 0.3));\n",
              "      fill: #FFFFFF;\n",
              "    }\n",
              "  </style>\n",
              "\n",
              "    <script>\n",
              "      const buttonEl =\n",
              "        document.querySelector('#df-a84ddf73-5859-4608-9488-a48c235dfb91 button.colab-df-convert');\n",
              "      buttonEl.style.display =\n",
              "        google.colab.kernel.accessAllowed ? 'block' : 'none';\n",
              "\n",
              "      async function convertToInteractive(key) {\n",
              "        const element = document.querySelector('#df-a84ddf73-5859-4608-9488-a48c235dfb91');\n",
              "        const dataTable =\n",
              "          await google.colab.kernel.invokeFunction('convertToInteractive',\n",
              "                                                    [key], {});\n",
              "        if (!dataTable) return;\n",
              "\n",
              "        const docLinkHtml = 'Like what you see? Visit the ' +\n",
              "          '<a target=\"_blank\" href=https://colab.research.google.com/notebooks/data_table.ipynb>data table notebook</a>'\n",
              "          + ' to learn more about interactive tables.';\n",
              "        element.innerHTML = '';\n",
              "        dataTable['output_type'] = 'display_data';\n",
              "        await google.colab.output.renderOutput(dataTable, element);\n",
              "        const docLink = document.createElement('div');\n",
              "        docLink.innerHTML = docLinkHtml;\n",
              "        element.appendChild(docLink);\n",
              "      }\n",
              "    </script>\n",
              "  </div>\n",
              "\n",
              "\n",
              "    <div id=\"df-f23639a9-d86d-4030-885b-574a8715904b\">\n",
              "      <button class=\"colab-df-quickchart\" onclick=\"quickchart('df-f23639a9-d86d-4030-885b-574a8715904b')\"\n",
              "                title=\"Suggest charts\"\n",
              "                style=\"display:none;\">\n",
              "\n",
              "<svg xmlns=\"http://www.w3.org/2000/svg\" height=\"24px\"viewBox=\"0 0 24 24\"\n",
              "     width=\"24px\">\n",
              "    <g>\n",
              "        <path d=\"M19 3H5c-1.1 0-2 .9-2 2v14c0 1.1.9 2 2 2h14c1.1 0 2-.9 2-2V5c0-1.1-.9-2-2-2zM9 17H7v-7h2v7zm4 0h-2V7h2v10zm4 0h-2v-4h2v4z\"/>\n",
              "    </g>\n",
              "</svg>\n",
              "      </button>\n",
              "\n",
              "<style>\n",
              "  .colab-df-quickchart {\n",
              "      --bg-color: #E8F0FE;\n",
              "      --fill-color: #1967D2;\n",
              "      --hover-bg-color: #E2EBFA;\n",
              "      --hover-fill-color: #174EA6;\n",
              "      --disabled-fill-color: #AAA;\n",
              "      --disabled-bg-color: #DDD;\n",
              "  }\n",
              "\n",
              "  [theme=dark] .colab-df-quickchart {\n",
              "      --bg-color: #3B4455;\n",
              "      --fill-color: #D2E3FC;\n",
              "      --hover-bg-color: #434B5C;\n",
              "      --hover-fill-color: #FFFFFF;\n",
              "      --disabled-bg-color: #3B4455;\n",
              "      --disabled-fill-color: #666;\n",
              "  }\n",
              "\n",
              "  .colab-df-quickchart {\n",
              "    background-color: var(--bg-color);\n",
              "    border: none;\n",
              "    border-radius: 50%;\n",
              "    cursor: pointer;\n",
              "    display: none;\n",
              "    fill: var(--fill-color);\n",
              "    height: 32px;\n",
              "    padding: 0;\n",
              "    width: 32px;\n",
              "  }\n",
              "\n",
              "  .colab-df-quickchart:hover {\n",
              "    background-color: var(--hover-bg-color);\n",
              "    box-shadow: 0 1px 2px rgba(60, 64, 67, 0.3), 0 1px 3px 1px rgba(60, 64, 67, 0.15);\n",
              "    fill: var(--button-hover-fill-color);\n",
              "  }\n",
              "\n",
              "  .colab-df-quickchart-complete:disabled,\n",
              "  .colab-df-quickchart-complete:disabled:hover {\n",
              "    background-color: var(--disabled-bg-color);\n",
              "    fill: var(--disabled-fill-color);\n",
              "    box-shadow: none;\n",
              "  }\n",
              "\n",
              "  .colab-df-spinner {\n",
              "    border: 2px solid var(--fill-color);\n",
              "    border-color: transparent;\n",
              "    border-bottom-color: var(--fill-color);\n",
              "    animation:\n",
              "      spin 1s steps(1) infinite;\n",
              "  }\n",
              "\n",
              "  @keyframes spin {\n",
              "    0% {\n",
              "      border-color: transparent;\n",
              "      border-bottom-color: var(--fill-color);\n",
              "      border-left-color: var(--fill-color);\n",
              "    }\n",
              "    20% {\n",
              "      border-color: transparent;\n",
              "      border-left-color: var(--fill-color);\n",
              "      border-top-color: var(--fill-color);\n",
              "    }\n",
              "    30% {\n",
              "      border-color: transparent;\n",
              "      border-left-color: var(--fill-color);\n",
              "      border-top-color: var(--fill-color);\n",
              "      border-right-color: var(--fill-color);\n",
              "    }\n",
              "    40% {\n",
              "      border-color: transparent;\n",
              "      border-right-color: var(--fill-color);\n",
              "      border-top-color: var(--fill-color);\n",
              "    }\n",
              "    60% {\n",
              "      border-color: transparent;\n",
              "      border-right-color: var(--fill-color);\n",
              "    }\n",
              "    80% {\n",
              "      border-color: transparent;\n",
              "      border-right-color: var(--fill-color);\n",
              "      border-bottom-color: var(--fill-color);\n",
              "    }\n",
              "    90% {\n",
              "      border-color: transparent;\n",
              "      border-bottom-color: var(--fill-color);\n",
              "    }\n",
              "  }\n",
              "</style>\n",
              "\n",
              "      <script>\n",
              "        async function quickchart(key) {\n",
              "          const quickchartButtonEl =\n",
              "            document.querySelector('#' + key + ' button');\n",
              "          quickchartButtonEl.disabled = true;  // To prevent multiple clicks.\n",
              "          quickchartButtonEl.classList.add('colab-df-spinner');\n",
              "          try {\n",
              "            const charts = await google.colab.kernel.invokeFunction(\n",
              "                'suggestCharts', [key], {});\n",
              "          } catch (error) {\n",
              "            console.error('Error during call to suggestCharts:', error);\n",
              "          }\n",
              "          quickchartButtonEl.classList.remove('colab-df-spinner');\n",
              "          quickchartButtonEl.classList.add('colab-df-quickchart-complete');\n",
              "        }\n",
              "        (() => {\n",
              "          let quickchartButtonEl =\n",
              "            document.querySelector('#df-f23639a9-d86d-4030-885b-574a8715904b button');\n",
              "          quickchartButtonEl.style.display =\n",
              "            google.colab.kernel.accessAllowed ? 'block' : 'none';\n",
              "        })();\n",
              "      </script>\n",
              "    </div>\n",
              "\n",
              "  <div id=\"id_7b4234ad-c7f5-4e7c-96bb-81a3939df695\">\n",
              "    <style>\n",
              "      .colab-df-generate {\n",
              "        background-color: #E8F0FE;\n",
              "        border: none;\n",
              "        border-radius: 50%;\n",
              "        cursor: pointer;\n",
              "        display: none;\n",
              "        fill: #1967D2;\n",
              "        height: 32px;\n",
              "        padding: 0 0 0 0;\n",
              "        width: 32px;\n",
              "      }\n",
              "\n",
              "      .colab-df-generate:hover {\n",
              "        background-color: #E2EBFA;\n",
              "        box-shadow: 0px 1px 2px rgba(60, 64, 67, 0.3), 0px 1px 3px 1px rgba(60, 64, 67, 0.15);\n",
              "        fill: #174EA6;\n",
              "      }\n",
              "\n",
              "      [theme=dark] .colab-df-generate {\n",
              "        background-color: #3B4455;\n",
              "        fill: #D2E3FC;\n",
              "      }\n",
              "\n",
              "      [theme=dark] .colab-df-generate:hover {\n",
              "        background-color: #434B5C;\n",
              "        box-shadow: 0px 1px 3px 1px rgba(0, 0, 0, 0.15);\n",
              "        filter: drop-shadow(0px 1px 2px rgba(0, 0, 0, 0.3));\n",
              "        fill: #FFFFFF;\n",
              "      }\n",
              "    </style>\n",
              "    <button class=\"colab-df-generate\" onclick=\"generateWithVariable('df_pandas')\"\n",
              "            title=\"Generate code using this dataframe.\"\n",
              "            style=\"display:none;\">\n",
              "\n",
              "  <svg xmlns=\"http://www.w3.org/2000/svg\" height=\"24px\"viewBox=\"0 0 24 24\"\n",
              "       width=\"24px\">\n",
              "    <path d=\"M7,19H8.4L18.45,9,17,7.55,7,17.6ZM5,21V16.75L18.45,3.32a2,2,0,0,1,2.83,0l1.4,1.43a1.91,1.91,0,0,1,.58,1.4,1.91,1.91,0,0,1-.58,1.4L9.25,21ZM18.45,9,17,7.55Zm-12,3A5.31,5.31,0,0,0,4.9,8.1,5.31,5.31,0,0,0,1,6.5,5.31,5.31,0,0,0,4.9,4.9,5.31,5.31,0,0,0,6.5,1,5.31,5.31,0,0,0,8.1,4.9,5.31,5.31,0,0,0,12,6.5,5.46,5.46,0,0,0,6.5,12Z\"/>\n",
              "  </svg>\n",
              "    </button>\n",
              "    <script>\n",
              "      (() => {\n",
              "      const buttonEl =\n",
              "        document.querySelector('#id_7b4234ad-c7f5-4e7c-96bb-81a3939df695 button.colab-df-generate');\n",
              "      buttonEl.style.display =\n",
              "        google.colab.kernel.accessAllowed ? 'block' : 'none';\n",
              "\n",
              "      buttonEl.onclick = () => {\n",
              "        google.colab.notebook.generateWithVariable('df_pandas');\n",
              "      }\n",
              "      })();\n",
              "    </script>\n",
              "  </div>\n",
              "\n",
              "    </div>\n",
              "  </div>\n"
            ],
            "application/vnd.google.colaboratory.intrinsic+json": {
              "type": "dataframe",
              "variable_name": "df_pandas",
              "summary": "{\n  \"name\": \"df_pandas\",\n  \"rows\": 4,\n  \"fields\": [\n    {\n      \"column\": \"Nama\",\n      \"properties\": {\n        \"dtype\": \"string\",\n        \"num_unique_values\": 4,\n        \"samples\": [\n          \"Budi\",\n          \"Dina\",\n          \"Ali\"\n        ],\n        \"semantic_type\": \"\",\n        \"description\": \"\"\n      }\n    },\n    {\n      \"column\": \"Usia\",\n      \"properties\": {\n        \"dtype\": \"number\",\n        \"std\": 9,\n        \"min\": 23,\n        \"max\": 45,\n        \"num_unique_values\": 4,\n        \"samples\": [\n          23,\n          45,\n          34\n        ],\n        \"semantic_type\": \"\",\n        \"description\": \"\"\n      }\n    }\n  ]\n}"
            }
          },
          "metadata": {},
          "execution_count": 8
        }
      ]
    },
    {
      "cell_type": "markdown",
      "source": [
        "### **Tugas 3**: Modifikasi DataFrame Pandas dengan menambahkan kolom baru dan melakukan operasi seperti filtering data berdasarkan usia."
      ],
      "metadata": {
        "id": "9Xjy0oMRniGW"
      }
    },
    {
      "cell_type": "code",
      "source": [
        "import pandas as pd\n",
        "\n",
        "# Membuat DataFrame Pandas\n",
        "data_pandas = {\"Nama\": [\"Ali\", \"Budi\", \"Citra\", \"Dina\"], \"Usia\": [34, 23, 29, 45]}\n",
        "df_pandas = pd.DataFrame(data_pandas)\n",
        "\n",
        "# Menambahkan kolom baru \"Pekerjaan\"\n",
        "df_pandas[\"Pekerjaan\"] = [\"PNS\", \"Pelajar\", \"Ibu Rumah Tangga\", \"Karyawan\"]\n",
        "\n",
        "# Menambahkan kolom baru \"Kategori Usia\"\n",
        "df_pandas[\"Kategori Usia\"] = [\"Dewasa\" if usia >= 30 else \"Muda\" for usia in df_pandas[\"Usia\"]]\n",
        "\n",
        "# Filtering data berdasarkan usia > 30\n",
        "df_filtered = df_pandas[df_pandas[\"Usia\"] > 30]\n",
        "\n",
        "# Menampilkan DataFrame hasil modifikasi\n",
        "print(\"DataFrame setelah dimodifikasi:\")\n",
        "print(df_pandas, \"\\n\")\n",
        "\n",
        "print(\"Hasil Filtering (Usia > 30):\")\n",
        "print(df_filtered)"
      ],
      "metadata": {
        "colab": {
          "base_uri": "https://localhost:8080/"
        },
        "id": "LURxWjHmfcFO",
        "outputId": "6657a958-c5ee-4323-d6cd-ddad3febb612"
      },
      "execution_count": 10,
      "outputs": [
        {
          "output_type": "stream",
          "name": "stdout",
          "text": [
            "DataFrame setelah dimodifikasi:\n",
            "    Nama  Usia         Pekerjaan Kategori Usia\n",
            "0    Ali    34               PNS        Dewasa\n",
            "1   Budi    23           Pelajar          Muda\n",
            "2  Citra    29  Ibu Rumah Tangga          Muda\n",
            "3   Dina    45          Karyawan        Dewasa \n",
            "\n",
            "Hasil Filtering (Usia > 30):\n",
            "   Nama  Usia Pekerjaan Kategori Usia\n",
            "0   Ali    34       PNS        Dewasa\n",
            "3  Dina    45  Karyawan        Dewasa\n"
          ]
        }
      ]
    },
    {
      "cell_type": "markdown",
      "source": [
        "### **Latihan 3**: Penggunaan Pandas untuk operasi lebih kompleks"
      ],
      "metadata": {
        "id": "3FPsQaqrhxPi"
      }
    },
    {
      "cell_type": "code",
      "source": [
        "import pandas as pd\n",
        "\n",
        "# Membuat DataFrame Pandas\n",
        "data_pandas = {\"Nama\": [\"Ali\", \"Budi\", \"Citra\", \"Dina\"], \"Usia\": [34, 23, 29, 45]}\n",
        "df_pandas = pd.DataFrame(data_pandas)\n",
        "\n",
        "# Membuat DataFrame kedua\n",
        "data_pandas_2 = {\"Nama\": [\"Ali\", \"Budi\", \"Citra\", \"Dina\"], \"Pekerjaan\": [\"Dokter\", \"Guru\", \"Insinyur\", \"Perawat\"]}\n",
        "df_pandas_2 = pd.DataFrame(data_pandas_2)\n",
        "\n",
        "# Join antara dua DataFrame\n",
        "df_joined = pd.merge(df_pandas, df_pandas_2, on=\"Nama\")\n",
        "print(df_joined)\n",
        "\n",
        "# Menghitung statistik deskriptif\n",
        "print(df_pandas.describe())\n",
        "\n",
        "# Plotting Data\n",
        "import matplotlib.pyplot as plt\n",
        "df_pandas['Usia'].plot(kind='bar')\n",
        "plt.show()"
      ],
      "metadata": {
        "colab": {
          "base_uri": "https://localhost:8080/",
          "height": 668
        },
        "id": "4Ege2MkOga5q",
        "outputId": "8eb75364-652b-41aa-a56a-5416068588ff"
      },
      "execution_count": 11,
      "outputs": [
        {
          "output_type": "stream",
          "name": "stdout",
          "text": [
            "    Nama  Usia Pekerjaan\n",
            "0    Ali    34    Dokter\n",
            "1   Budi    23      Guru\n",
            "2  Citra    29  Insinyur\n",
            "3   Dina    45   Perawat\n",
            "            Usia\n",
            "count   4.000000\n",
            "mean   32.750000\n",
            "std     9.322911\n",
            "min    23.000000\n",
            "25%    27.500000\n",
            "50%    31.500000\n",
            "75%    36.750000\n",
            "max    45.000000\n"
          ]
        },
        {
          "output_type": "display_data",
          "data": {
            "text/plain": [
              "<Figure size 640x480 with 1 Axes>"
            ],
            "image/png": "[encoded data removed]"
          },
          "metadata": {}
        }
      ]
    },
    {
      "cell_type": "markdown",
      "source": [
        "### **Tugas 4**: Lakukan penggabungan DataFrame dan visualisasikan data dengan Pandas."
      ],
      "metadata": {
        "id": "qedlDtP7jEzU"
      }
    },
    {
      "cell_type": "code",
      "source": [
        "import pandas as pd\n",
        "import matplotlib.pyplot as plt\n",
        "\n",
        "# Membuat DataFrame pertama (Nama dan Usia)\n",
        "data_pandas = {\n",
        "    \"Nama\": [\"Ali\", \"Budi\", \"Citra\", \"Dina\"],\n",
        "    \"Usia\": [34, 23, 29, 45]\n",
        "}\n",
        "df_pandas = pd.DataFrame(data_pandas)\n",
        "\n",
        "# Membuat DataFrame kedua (Nama dan Pekerjaan)\n",
        "data_pandas_2 = {\n",
        "    \"Nama\": [\"Ali\", \"Budi\", \"Citra\", \"Dina\"],\n",
        "    \"Pekerjaan\": [\"Dokter\", \"Guru\", \"Insinyur\", \"Perawat\"]\n",
        "}\n",
        "df_pandas_2 = pd.DataFrame(data_pandas_2)\n",
        "\n",
        "# Menggabungkan DataFrame berdasarkan kolom Nama\n",
        "df_joined = pd.merge(df_pandas, df_pandas_2, on=\"Nama\")\n",
        "print(\"Hasil Penggabungan DataFrame:\")\n",
        "print(df_joined)\n",
        "\n",
        "# Visualisasi Data: Membuat diagram batang usia tiap orang\n",
        "df_joined.plot(x=\"Nama\", y=\"Usia\", kind=\"bar\", color=\"skyblue\", legend=False)\n",
        "plt.title(\"Usia Masing-Masing Individu\")\n",
        "plt.xlabel(\"Nama\")\n",
        "plt.ylabel(\"Usia\")\n",
        "plt.show()"
      ],
      "metadata": {
        "colab": {
          "base_uri": "https://localhost:8080/",
          "height": 595
        },
        "id": "7l7JhsJzh6Qf",
        "outputId": "e5b72d43-d264-45d7-8eba-549b83577175"
      },
      "execution_count": 12,
      "outputs": [
        {
          "output_type": "stream",
          "name": "stdout",
          "text": [
            "Hasil Penggabungan DataFrame:\n",
            "    Nama  Usia Pekerjaan\n",
            "0    Ali    34    Dokter\n",
            "1   Budi    23      Guru\n",
            "2  Citra    29  Insinyur\n",
            "3   Dina    45   Perawat\n"
          ]
        },
        {
          "output_type": "display_data",
          "data": {
            "text/plain": [
              "<Figure size 640x480 with 1 Axes>"
            ],
            "image/png": "[encoded data removed]"
          },
          "metadata": {}
        }
      ]
    },
    {
      "cell_type": "markdown",
      "source": [
        "## Menggabungkan PySpark dan Pandas"
      ],
      "metadata": {
        "id": "Dc_0M52SnraB"
      }
    },
    {
      "cell_type": "markdown",
      "source": [
        "### **Latihan 4**: Mengonversi DataFrame antara PySpark dan Pandas"
      ],
      "metadata": {
        "id": "Jg0EXq5unwcv"
      }
    },
    {
      "cell_type": "code",
      "source": [
        "# Mengonversi DataFrame dari PySpark ke Pandas\n",
        "df_pandas_from_spark = df.toPandas()\n",
        "\n",
        "# Mengonversi DataFrame dari Pandas ke PySpark\n",
        "df_spark_from_pandas = spark.createDataFrame(df_pandas)\n",
        "\n",
        "# Menampilkan DataFrame hasil konversi\n",
        "df_pandas_from_spark, df_spark_from_pandas.show()"
      ],
      "metadata": {
        "colab": {
          "base_uri": "https://localhost:8080/"
        },
        "id": "vHxWg-ZJjMpE",
        "outputId": "682a3419-1f40-446f-fff3-646ff47316cf"
      },
      "execution_count": 13,
      "outputs": [
        {
          "output_type": "stream",
          "name": "stdout",
          "text": [
            "+-----+----+\n",
            "| Nama|Usia|\n",
            "+-----+----+\n",
            "|  Ali|  34|\n",
            "| Budi|  23|\n",
            "|Citra|  29|\n",
            "| Dina|  45|\n",
            "+-----+----+\n",
            "\n"
          ]
        },
        {
          "output_type": "execute_result",
          "data": {
            "text/plain": [
              "(    Nama  Usia             Pekerjaan           Hobi     Gender\n",
              " 0    Ali    34  Pegawai Negeri Sipil      Memancing  Laki-laki\n",
              " 1   Budi    23               Pelajar        Membaca  Laki-laki\n",
              " 2  Citra    29      Ibu Rumah Tangga  Menonton Film  Perempuan\n",
              " 3   Dina    45       Karyawan Swasta        Menulis  Perempuan,\n",
              " None)"
            ]
          },
          "metadata": {},
          "execution_count": 13
        }
      ]
    },
    {
      "cell_type": "markdown",
      "source": [
        "###**Tugas 5**: Gunakan metode ini untuk menggabungkan data yang Anda buat di PySpark dengan data dari Pandas, kemudian lakukan analisis sederhana seperti menghitung rata-rata usia."
      ],
      "metadata": {
        "id": "2FMxQgR7kiE4"
      }
    },
    {
      "cell_type": "code",
      "source": [
        "import pandas as pd\n",
        "from pyspark.sql import SparkSession\n",
        "\n",
        "# Inisialisasi Spark\n",
        "spark = SparkSession.builder.appName(\"BigDataPractice\").getOrCreate()\n",
        "\n",
        "# Data dari PySpark\n",
        "data_spark = [(\"Ali\", 34), (\"Budi\", 23), (\"Citra\", 29)]\n",
        "df_spark = spark.createDataFrame(data_spark, [\"Nama\", \"Usia\"])\n",
        "\n",
        "# Data dari Pandas\n",
        "data_pandas = {\"Nama\": [\"Dina\", \"Eka\"], \"Usia\": [45, 31]}\n",
        "df_pandas = pd.DataFrame(data_pandas)\n",
        "\n",
        "# Konversi Pandas ke PySpark\n",
        "df_spark_from_pandas = spark.createDataFrame(df_pandas)\n",
        "\n",
        "# Gabungkan data PySpark dengan data hasil konversi dari Pandas\n",
        "df_gabungan = df_spark.union(df_spark_from_pandas)\n",
        "\n",
        "# Tampilkan data gabungan\n",
        "df_gabungan.show()\n",
        "\n",
        "# Analisis sederhana: menghitung rata-rata usia\n",
        "df_gabungan.agg({\"Usia\": \"avg\"}).show()\n"
      ],
      "metadata": {
        "colab": {
          "base_uri": "https://localhost:8080/"
        },
        "id": "-Hf3yqxIkDRv",
        "outputId": "5c1cd3a2-7637-4bc3-eecc-e9e962891752"
      },
      "execution_count": 14,
      "outputs": [
        {
          "output_type": "stream",
          "name": "stdout",
          "text": [
            "+-----+----+\n",
            "| Nama|Usia|\n",
            "+-----+----+\n",
            "|  Ali|  34|\n",
            "| Budi|  23|\n",
            "|Citra|  29|\n",
            "| Dina|  45|\n",
            "|  Eka|  31|\n",
            "+-----+----+\n",
            "\n",
            "+---------+\n",
            "|avg(Usia)|\n",
            "+---------+\n",
            "|     32.4|\n",
            "+---------+\n",
            "\n"
          ]
        }
      ]
    },
    {
      "cell_type": "markdown",
      "source": [
        "### **Tugas 6**: Gabungkan data dari PySpark dan Pandas, lalu lakukan operasi statistik seperti menghitung nilai maksimum usia."
      ],
      "metadata": {
        "id": "Un9_x7ZbmIVL"
      }
    },
    {
      "cell_type": "code",
      "source": [
        "from pyspark.sql import SparkSession\n",
        "import pandas as pd\n",
        "import matplotlib.pyplot as plt\n",
        "\n",
        "# Membuat SparkSession\n",
        "spark = SparkSession.builder.appName(\"Tugas6\").getOrCreate()\n",
        "\n",
        "# Data di PySpark\n",
        "data_spark = [(\"Ali\", 34), (\"Budi\", 23), (\"Citra\", 29)]\n",
        "columns = [\"Nama\", \"Usia\"]\n",
        "df_spark = spark.createDataFrame(data_spark, columns)\n",
        "\n",
        "# Data di Pandas\n",
        "data_pandas = {\"Nama\": [\"Dina\", \"Eko\"], \"Usia\": [45, 31]}\n",
        "df_pandas = pd.DataFrame(data_pandas)\n",
        "\n",
        "# Konversi Pandas ke PySpark\n",
        "df_spark_from_pandas = spark.createDataFrame(df_pandas)\n",
        "\n",
        "# Gabungkan data PySpark + Pandas\n",
        "df_combined = df_spark.union(df_spark_from_pandas)\n",
        "\n",
        "# Hitung nilai maksimum usia\n",
        "max_usia = df_combined.agg({\"Usia\": \"max\"}).collect()[0][0]\n",
        "\n",
        "# Konversi ke Pandas untuk visualisasi\n",
        "df_final = df_combined.toPandas()\n",
        "\n",
        "# Visualisasi diagram batang\n",
        "plt.figure(figsize=(6,4))\n",
        "plt.bar(df_final[\"Nama\"], df_final[\"Usia\"], color=\"skyblue\")\n",
        "plt.axhline(y=max_usia, color=\"red\", linestyle=\"--\", label=f'Max Usia: {max_usia}')\n",
        "plt.xlabel(\"Nama\")\n",
        "plt.ylabel(\"Usia\")\n",
        "plt.title(\"Diagram Usia (Gabungan PySpark & Pandas)\")\n",
        "plt.legend()\n",
        "plt.show()"
      ],
      "metadata": {
        "colab": {
          "base_uri": "https://localhost:8080/",
          "height": 410
        },
        "id": "6bXo_r4Nk50_",
        "outputId": "e9e5cf9b-7bcd-49e1-9fa6-4990871b8174"
      },
      "execution_count": 16,
      "outputs": [
        {
          "output_type": "display_data",
          "data": {
            "text/plain": [
              "<Figure size 600x400 with 1 Axes>"
            ],
            "image/png": "[encoded data removed]"
          },
          "metadata": {}
        }
      ]
    }
  ]
}